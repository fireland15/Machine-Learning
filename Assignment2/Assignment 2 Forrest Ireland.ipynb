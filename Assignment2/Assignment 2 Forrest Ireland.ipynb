{
 "cells": [
  {
   "cell_type": "markdown",
   "metadata": {},
   "source": [
    "## Part 1"
   ]
  },
  {
   "cell_type": "markdown",
   "metadata": {},
   "source": [
    "### Is there any data missing (NaN)? If so, how would you remove it?"
   ]
  },
  {
   "cell_type": "code",
   "execution_count": 1,
   "metadata": {},
   "outputs": [
    {
     "data": {
      "text/plain": [
       "id               0\n",
       "date             0\n",
       "price            0\n",
       "bedrooms         0\n",
       "bathrooms        0\n",
       "sqft_living      0\n",
       "sqft_lot         0\n",
       "floors           0\n",
       "waterfront       0\n",
       "view             0\n",
       "condition        0\n",
       "grade            0\n",
       "sqft_above       0\n",
       "sqft_basement    0\n",
       "yr_built         0\n",
       "yr_renovated     0\n",
       "zipcode          0\n",
       "lat              0\n",
       "long             0\n",
       "sqft_living15    0\n",
       "sqft_lot15       0\n",
       "dtype: int64"
      ]
     },
     "execution_count": 1,
     "metadata": {},
     "output_type": "execute_result"
    }
   ],
   "source": [
    "import pandas as pd\n",
    "df = pd.read_csv(\"kc_house_data.csv\")\n",
    "nulldf = df.isnull()\n",
    "nulldf.sum()"
   ]
  },
  {
   "cell_type": "markdown",
   "metadata": {},
   "source": [
    "It appears that there are no NaN values in the dataframe. The above table shows the number of rows in each column that do not have values, since the counts are all zeroes, the data is complete."
   ]
  },
  {
   "cell_type": "markdown",
   "metadata": {},
   "source": [
    "To remove any rows with missing values, the pandas.DataFrame.dropna function could be used to remove rows with missing values. It can take parameters that specify how/when to remove rows. You could remove rows that are only missing one value, multiple, more than some threshold, or all values. You could also try to remove the missing data fields guessing what they might be. A second model could be created that is used to come up with possible values for the missing fields."
   ]
  },
  {
   "cell_type": "markdown",
   "metadata": {},
   "source": [
    "### What columns appear to offer the best hope of a linear approximation of price?"
   ]
  },
  {
   "cell_type": "code",
   "execution_count": null,
   "metadata": {},
   "outputs": [],
   "source": [
    "import matplotlib.pyplot as plt\n",
    "from pandas.plotting import scatter_matrix\n",
    "\n",
    "testdf = df.drop(['id', 'date', 'zipcode', 'lat', 'long'], axis=1)\n",
    "scatter_matrix(testdf, figsize=(16,16), diagonal='kde')\n",
    "plt.show()"
   ]
  },
  {
   "cell_type": "markdown",
   "metadata": {},
   "source": [
    "The columns that appear to offer the best hope of a linear approximation of house price are bathrooms, sqft_living, grade, sqft_above, and sqft_living15. All of these values appear to have a roughly linear relationship with price in the Scatter Matrix produced above."
   ]
  },
  {
   "cell_type": "markdown",
   "metadata": {},
   "source": [
    "### Which columns data are categorical? Which are numerical?"
   ]
  },
  {
   "cell_type": "markdown",
   "metadata": {},
   "source": [
    "The categorical columns are floors, waterfront, view, and zipcode.\n",
    "\n",
    "The numeric columns are price, bedrooms, bathrooms, sqft_living, sqft_lot, floors, condition, grade, sqft_above, sqft_basement, yr_built, yr_renovated, lat, long, sqft_living15, and sqft_lot15. Not all of these numeric values are continuous variables. Some, such as condition and grade could be argued to be categorical columns, however I would say they count as numeric since a house with condition 1 is worse than a house with condition 10, assuming 10 is a perfect house. There is an order to the values in those columns, so they can be treated as numeric."
   ]
  },
  {
   "cell_type": "markdown",
   "metadata": {},
   "source": [
    "### Which is the best column to use for prediction? This is a judgement call, but I'd like to know how you justify it."
   ]
  },
  {
   "cell_type": "markdown",
   "metadata": {},
   "source": [
    "Without creating a linear regression for each pair of price and another column, we really only have the Scatter Matrix to look at and help us decide which is \"best\". Looking at the Scatter Matrix, we look in the first row or column at the scatter plots of each column against the price. We are looking for plots where the data seems to cluster about a straight line. The tighter the data is clustered about a line, the better a linear model will be produced and the easier it will be to predict housing prices.\n",
    "\n",
    "In the scatter matrix there are a number of price plots that have the data somewhat clustered about a straight line. Unfortunately some of these seem to be clustered about a straight line that follows one of the axes of the plot. This means the variables are likely unrelated and any model developed with them will likely be uninformative. \n",
    "\n",
    "Knowing that, the strongest looking plot is the one of sqft_living and price. This plot features the \"tightest\" cluster of points about a straight line, at least in my opinion. So I believe it will be one of the best predictors of housing prices."
   ]
  },
  {
   "cell_type": "markdown",
   "metadata": {},
   "source": [
    "## Part 2"
   ]
  },
  {
   "cell_type": "code",
   "execution_count": 33,
   "metadata": {},
   "outputs": [],
   "source": [
    "import pandas as pd\n",
    "\n",
    "def model_stats(results):\n",
    "    df = pd.DataFrame([results.params, results.bse, results.tvalues, results.pvalues],\\\n",
    "                     index=[\"coef\", \"std.error\", \"t-value\", \"p-value\"])\n",
    "    df2 = results.conf_int()\n",
    "    df2.columns=([[\"[0.025\", \"0.975]\"]])\n",
    "    return pd.concat([df, df2.transpose()], axis=0).round(3).transpose()"
   ]
  },
  {
   "cell_type": "markdown",
   "metadata": {},
   "source": [
    "### How might you choose which column is best for the predictive model?"
   ]
  },
  {
   "cell_type": "markdown",
   "metadata": {},
   "source": [
    "The quickest way to find out which column is best is to make a bunch of models using each of the columns and view the statistics for each model.\n",
    "\n",
    "Below you can see that I created a linear regression for each of the numeric columns to predict price, and according to the r-squared scores the two best predictors are sqft_living and grade. This seems intuitive since bigger houses generally cost more and nicer/better maintained houses also usually cost more. Surprisingly the condition of a house seems to be a poor indicator of the price with an r-squared score of 0.001. One would expect better houses to fetch a better price. Perhaps this is a modifier of the price, and there might be a noticable trend within a pricing category."
   ]
  },
  {
   "cell_type": "code",
   "execution_count": 39,
   "metadata": {},
   "outputs": [
    {
     "name": "stdout",
     "output_type": "stream",
     "text": [
      "r-squared: 0.0940718468671\n"
     ]
    },
    {
     "data": {
      "text/html": [
       "<div>\n",
       "<style>\n",
       "    .dataframe thead tr:only-child th {\n",
       "        text-align: right;\n",
       "    }\n",
       "\n",
       "    .dataframe thead th {\n",
       "        text-align: left;\n",
       "    }\n",
       "\n",
       "    .dataframe tbody tr th {\n",
       "        vertical-align: top;\n",
       "    }\n",
       "</style>\n",
       "<table border=\"1\" class=\"dataframe\">\n",
       "  <thead>\n",
       "    <tr style=\"text-align: right;\">\n",
       "      <th></th>\n",
       "      <th>coef</th>\n",
       "      <th>std.error</th>\n",
       "      <th>t-value</th>\n",
       "      <th>p-value</th>\n",
       "      <th>[0.025</th>\n",
       "      <th>0.975]</th>\n",
       "    </tr>\n",
       "  </thead>\n",
       "  <tbody>\n",
       "    <tr>\n",
       "      <th>Intercept</th>\n",
       "      <td>146584.327</td>\n",
       "      <td>9584.165</td>\n",
       "      <td>15.294</td>\n",
       "      <td>0.0</td>\n",
       "      <td>127798.393</td>\n",
       "      <td>165370.261</td>\n",
       "    </tr>\n",
       "    <tr>\n",
       "      <th>bedrooms</th>\n",
       "      <td>116233.942</td>\n",
       "      <td>2743.327</td>\n",
       "      <td>42.370</td>\n",
       "      <td>0.0</td>\n",
       "      <td>110856.743</td>\n",
       "      <td>121611.141</td>\n",
       "    </tr>\n",
       "  </tbody>\n",
       "</table>\n",
       "</div>"
      ],
      "text/plain": [
       "                 coef  std.error  t-value  p-value      [0.025      0.975]\n",
       "Intercept  146584.327   9584.165   15.294      0.0  127798.393  165370.261\n",
       "bedrooms   116233.942   2743.327   42.370      0.0  110856.743  121611.141"
      ]
     },
     "execution_count": 39,
     "metadata": {},
     "output_type": "execute_result"
    }
   ],
   "source": [
    "import statsmodels.api as sm\n",
    "from patsy import dmatrices\n",
    "from sklearn.model_selection import train_test_split\n",
    "\n",
    "df = pd.read_csv(\"kc_house_data.csv\")\n",
    "Y, X = dmatrices(\"price ~ bedrooms\", data=df, return_type=\"dataframe\")\n",
    "X_train, X_test, Y_train, Y_test = train_test_split(X, Y, test_size=0.2, random_state=1)\n",
    "model = sm.OLS(Y_train, sm.add_constant(X_train))\n",
    "results = model.fit()\n",
    "print(\"r-squared: \" + str(results.rsquared))\n",
    "model_stats(results)"
   ]
  },
  {
   "cell_type": "code",
   "execution_count": 40,
   "metadata": {},
   "outputs": [
    {
     "name": "stdout",
     "output_type": "stream",
     "text": [
      "r-squared: 0.271896057893\n"
     ]
    },
    {
     "data": {
      "text/html": [
       "<div>\n",
       "<style>\n",
       "    .dataframe thead tr:only-child th {\n",
       "        text-align: right;\n",
       "    }\n",
       "\n",
       "    .dataframe thead th {\n",
       "        text-align: left;\n",
       "    }\n",
       "\n",
       "    .dataframe tbody tr th {\n",
       "        vertical-align: top;\n",
       "    }\n",
       "</style>\n",
       "<table border=\"1\" class=\"dataframe\">\n",
       "  <thead>\n",
       "    <tr style=\"text-align: right;\">\n",
       "      <th></th>\n",
       "      <th>coef</th>\n",
       "      <th>std.error</th>\n",
       "      <th>t-value</th>\n",
       "      <th>p-value</th>\n",
       "      <th>[0.025</th>\n",
       "      <th>0.975]</th>\n",
       "    </tr>\n",
       "  </thead>\n",
       "  <tbody>\n",
       "    <tr>\n",
       "      <th>Intercept</th>\n",
       "      <td>28639.673</td>\n",
       "      <td>6741.368</td>\n",
       "      <td>4.248</td>\n",
       "      <td>0.0</td>\n",
       "      <td>15425.910</td>\n",
       "      <td>41853.437</td>\n",
       "    </tr>\n",
       "    <tr>\n",
       "      <th>bathrooms</th>\n",
       "      <td>241167.271</td>\n",
       "      <td>3001.520</td>\n",
       "      <td>80.348</td>\n",
       "      <td>0.0</td>\n",
       "      <td>235283.988</td>\n",
       "      <td>247050.553</td>\n",
       "    </tr>\n",
       "  </tbody>\n",
       "</table>\n",
       "</div>"
      ],
      "text/plain": [
       "                 coef  std.error  t-value  p-value      [0.025      0.975]\n",
       "Intercept   28639.673   6741.368    4.248      0.0   15425.910   41853.437\n",
       "bathrooms  241167.271   3001.520   80.348      0.0  235283.988  247050.553"
      ]
     },
     "execution_count": 40,
     "metadata": {},
     "output_type": "execute_result"
    }
   ],
   "source": [
    "Y, X = dmatrices(\"price ~ bathrooms\", data=df, return_type=\"dataframe\")\n",
    "X_train, X_test, Y_train, Y_test = train_test_split(X, Y, test_size=0.2, random_state=1)\n",
    "model = sm.OLS(Y_train, sm.add_constant(X_train))\n",
    "results = model.fit()\n",
    "print(\"r-squared: \" + str(results.rsquared))\n",
    "model_stats(results)"
   ]
  },
  {
   "cell_type": "code",
   "execution_count": 41,
   "metadata": {},
   "outputs": [
    {
     "name": "stdout",
     "output_type": "stream",
     "text": [
      "r-squared: 0.488760782139\n"
     ]
    },
    {
     "data": {
      "text/html": [
       "<div>\n",
       "<style>\n",
       "    .dataframe thead tr:only-child th {\n",
       "        text-align: right;\n",
       "    }\n",
       "\n",
       "    .dataframe thead th {\n",
       "        text-align: left;\n",
       "    }\n",
       "\n",
       "    .dataframe tbody tr th {\n",
       "        vertical-align: top;\n",
       "    }\n",
       "</style>\n",
       "<table border=\"1\" class=\"dataframe\">\n",
       "  <thead>\n",
       "    <tr style=\"text-align: right;\">\n",
       "      <th></th>\n",
       "      <th>coef</th>\n",
       "      <th>std.error</th>\n",
       "      <th>t-value</th>\n",
       "      <th>p-value</th>\n",
       "      <th>[0.025</th>\n",
       "      <th>0.975]</th>\n",
       "    </tr>\n",
       "  </thead>\n",
       "  <tbody>\n",
       "    <tr>\n",
       "      <th>Intercept</th>\n",
       "      <td>-30186.361</td>\n",
       "      <td>4819.73</td>\n",
       "      <td>-6.263</td>\n",
       "      <td>0.0</td>\n",
       "      <td>-39633.520</td>\n",
       "      <td>-20739.202</td>\n",
       "    </tr>\n",
       "    <tr>\n",
       "      <th>sqft_living</th>\n",
       "      <td>273.822</td>\n",
       "      <td>2.13</td>\n",
       "      <td>128.561</td>\n",
       "      <td>0.0</td>\n",
       "      <td>269.647</td>\n",
       "      <td>277.997</td>\n",
       "    </tr>\n",
       "  </tbody>\n",
       "</table>\n",
       "</div>"
      ],
      "text/plain": [
       "                  coef  std.error  t-value  p-value     [0.025     0.975]\n",
       "Intercept   -30186.361    4819.73   -6.263      0.0 -39633.520 -20739.202\n",
       "sqft_living    273.822       2.13  128.561      0.0    269.647    277.997"
      ]
     },
     "execution_count": 41,
     "metadata": {},
     "output_type": "execute_result"
    }
   ],
   "source": [
    "Y, X = dmatrices(\"price ~ sqft_living\", data=df, return_type=\"dataframe\")\n",
    "X_train, X_test, Y_train, Y_test = train_test_split(X, Y, test_size=0.2, random_state=1)\n",
    "model = sm.OLS(Y_train, sm.add_constant(X_train))\n",
    "results = model.fit()\n",
    "print(\"r-squared: \" + str(results.rsquared))\n",
    "model_stats(results)"
   ]
  },
  {
   "cell_type": "code",
   "execution_count": 42,
   "metadata": {},
   "outputs": [
    {
     "name": "stdout",
     "output_type": "stream",
     "text": [
      "r-squared: 0.00788689283923\n"
     ]
    },
    {
     "data": {
      "text/html": [
       "<div>\n",
       "<style>\n",
       "    .dataframe thead tr:only-child th {\n",
       "        text-align: right;\n",
       "    }\n",
       "\n",
       "    .dataframe thead th {\n",
       "        text-align: left;\n",
       "    }\n",
       "\n",
       "    .dataframe tbody tr th {\n",
       "        vertical-align: top;\n",
       "    }\n",
       "</style>\n",
       "<table border=\"1\" class=\"dataframe\">\n",
       "  <thead>\n",
       "    <tr style=\"text-align: right;\">\n",
       "      <th></th>\n",
       "      <th>coef</th>\n",
       "      <th>std.error</th>\n",
       "      <th>t-value</th>\n",
       "      <th>p-value</th>\n",
       "      <th>[0.025</th>\n",
       "      <th>0.975]</th>\n",
       "    </tr>\n",
       "  </thead>\n",
       "  <tbody>\n",
       "    <tr>\n",
       "      <th>Intercept</th>\n",
       "      <td>526716.047</td>\n",
       "      <td>2845.575</td>\n",
       "      <td>185.100</td>\n",
       "      <td>0.0</td>\n",
       "      <td>521138.432</td>\n",
       "      <td>532293.661</td>\n",
       "    </tr>\n",
       "    <tr>\n",
       "      <th>sqft_lot</th>\n",
       "      <td>0.734</td>\n",
       "      <td>0.063</td>\n",
       "      <td>11.723</td>\n",
       "      <td>0.0</td>\n",
       "      <td>0.611</td>\n",
       "      <td>0.857</td>\n",
       "    </tr>\n",
       "  </tbody>\n",
       "</table>\n",
       "</div>"
      ],
      "text/plain": [
       "                 coef  std.error  t-value  p-value      [0.025      0.975]\n",
       "Intercept  526716.047   2845.575  185.100      0.0  521138.432  532293.661\n",
       "sqft_lot        0.734      0.063   11.723      0.0       0.611       0.857"
      ]
     },
     "execution_count": 42,
     "metadata": {},
     "output_type": "execute_result"
    }
   ],
   "source": [
    "Y, X = dmatrices(\"price ~ sqft_lot\", data=df, return_type=\"dataframe\")\n",
    "X_train, X_test, Y_train, Y_test = train_test_split(X, Y, test_size=0.2, random_state=1)\n",
    "model = sm.OLS(Y_train, sm.add_constant(X_train))\n",
    "results = model.fit()\n",
    "print(\"r-squared: \" + str(results.rsquared))\n",
    "model_stats(results)"
   ]
  },
  {
   "cell_type": "code",
   "execution_count": 43,
   "metadata": {},
   "outputs": [
    {
     "name": "stdout",
     "output_type": "stream",
     "text": [
      "r-squared: 0.0676670152673\n"
     ]
    },
    {
     "data": {
      "text/html": [
       "<div>\n",
       "<style>\n",
       "    .dataframe thead tr:only-child th {\n",
       "        text-align: right;\n",
       "    }\n",
       "\n",
       "    .dataframe thead th {\n",
       "        text-align: left;\n",
       "    }\n",
       "\n",
       "    .dataframe tbody tr th {\n",
       "        vertical-align: top;\n",
       "    }\n",
       "</style>\n",
       "<table border=\"1\" class=\"dataframe\">\n",
       "  <thead>\n",
       "    <tr style=\"text-align: right;\">\n",
       "      <th></th>\n",
       "      <th>coef</th>\n",
       "      <th>std.error</th>\n",
       "      <th>t-value</th>\n",
       "      <th>p-value</th>\n",
       "      <th>[0.025</th>\n",
       "      <th>0.975]</th>\n",
       "    </tr>\n",
       "  </thead>\n",
       "  <tbody>\n",
       "    <tr>\n",
       "      <th>Intercept</th>\n",
       "      <td>283289.763</td>\n",
       "      <td>7642.954</td>\n",
       "      <td>37.065</td>\n",
       "      <td>0.0</td>\n",
       "      <td>268308.800</td>\n",
       "      <td>298270.726</td>\n",
       "    </tr>\n",
       "    <tr>\n",
       "      <th>floors</th>\n",
       "      <td>170463.379</td>\n",
       "      <td>4812.334</td>\n",
       "      <td>35.422</td>\n",
       "      <td>0.0</td>\n",
       "      <td>161030.718</td>\n",
       "      <td>179896.040</td>\n",
       "    </tr>\n",
       "  </tbody>\n",
       "</table>\n",
       "</div>"
      ],
      "text/plain": [
       "                 coef  std.error  t-value  p-value      [0.025      0.975]\n",
       "Intercept  283289.763   7642.954   37.065      0.0  268308.800  298270.726\n",
       "floors     170463.379   4812.334   35.422      0.0  161030.718  179896.040"
      ]
     },
     "execution_count": 43,
     "metadata": {},
     "output_type": "execute_result"
    }
   ],
   "source": [
    "Y, X = dmatrices(\"price ~ floors\", data=df, return_type=\"dataframe\")\n",
    "X_train, X_test, Y_train, Y_test = train_test_split(X, Y, test_size=0.2, random_state=1)\n",
    "model = sm.OLS(Y_train, sm.add_constant(X_train))\n",
    "results = model.fit()\n",
    "print(\"r-squared: \" + str(results.rsquared))\n",
    "model_stats(results)"
   ]
  },
  {
   "cell_type": "code",
   "execution_count": 44,
   "metadata": {},
   "outputs": [
    {
     "name": "stdout",
     "output_type": "stream",
     "text": [
      "r-squared: 0.00118739615682\n"
     ]
    },
    {
     "data": {
      "text/html": [
       "<div>\n",
       "<style>\n",
       "    .dataframe thead tr:only-child th {\n",
       "        text-align: right;\n",
       "    }\n",
       "\n",
       "    .dataframe thead th {\n",
       "        text-align: left;\n",
       "    }\n",
       "\n",
       "    .dataframe tbody tr th {\n",
       "        vertical-align: top;\n",
       "    }\n",
       "</style>\n",
       "<table border=\"1\" class=\"dataframe\">\n",
       "  <thead>\n",
       "    <tr style=\"text-align: right;\">\n",
       "      <th></th>\n",
       "      <th>coef</th>\n",
       "      <th>std.error</th>\n",
       "      <th>t-value</th>\n",
       "      <th>p-value</th>\n",
       "      <th>[0.025</th>\n",
       "      <th>0.975]</th>\n",
       "    </tr>\n",
       "  </thead>\n",
       "  <tbody>\n",
       "    <tr>\n",
       "      <th>Intercept</th>\n",
       "      <td>474007.815</td>\n",
       "      <td>14343.840</td>\n",
       "      <td>33.046</td>\n",
       "      <td>0.0</td>\n",
       "      <td>445892.437</td>\n",
       "      <td>502123.193</td>\n",
       "    </tr>\n",
       "    <tr>\n",
       "      <th>condition</th>\n",
       "      <td>18727.183</td>\n",
       "      <td>4130.896</td>\n",
       "      <td>4.533</td>\n",
       "      <td>0.0</td>\n",
       "      <td>10630.209</td>\n",
       "      <td>26824.157</td>\n",
       "    </tr>\n",
       "  </tbody>\n",
       "</table>\n",
       "</div>"
      ],
      "text/plain": [
       "                 coef  std.error  t-value  p-value      [0.025      0.975]\n",
       "Intercept  474007.815  14343.840   33.046      0.0  445892.437  502123.193\n",
       "condition   18727.183   4130.896    4.533      0.0   10630.209   26824.157"
      ]
     },
     "execution_count": 44,
     "metadata": {},
     "output_type": "execute_result"
    }
   ],
   "source": [
    "Y, X = dmatrices(\"price ~ condition\", data=df, return_type=\"dataframe\")\n",
    "X_train, X_test, Y_train, Y_test = train_test_split(X, Y, test_size=0.2, random_state=1)\n",
    "model = sm.OLS(Y_train, sm.add_constant(X_train))\n",
    "results = model.fit()\n",
    "print(\"r-squared: \" + str(results.rsquared))\n",
    "model_stats(results)"
   ]
  },
  {
   "cell_type": "code",
   "execution_count": 45,
   "metadata": {},
   "outputs": [
    {
     "name": "stdout",
     "output_type": "stream",
     "text": [
      "r-squared: 0.449130522034\n"
     ]
    },
    {
     "data": {
      "text/html": [
       "<div>\n",
       "<style>\n",
       "    .dataframe thead tr:only-child th {\n",
       "        text-align: right;\n",
       "    }\n",
       "\n",
       "    .dataframe thead th {\n",
       "        text-align: left;\n",
       "    }\n",
       "\n",
       "    .dataframe tbody tr th {\n",
       "        vertical-align: top;\n",
       "    }\n",
       "</style>\n",
       "<table border=\"1\" class=\"dataframe\">\n",
       "  <thead>\n",
       "    <tr style=\"text-align: right;\">\n",
       "      <th></th>\n",
       "      <th>coef</th>\n",
       "      <th>std.error</th>\n",
       "      <th>t-value</th>\n",
       "      <th>p-value</th>\n",
       "      <th>[0.025</th>\n",
       "      <th>0.975]</th>\n",
       "    </tr>\n",
       "  </thead>\n",
       "  <tbody>\n",
       "    <tr>\n",
       "      <th>Intercept</th>\n",
       "      <td>-1010833.048</td>\n",
       "      <td>13196.922</td>\n",
       "      <td>-76.596</td>\n",
       "      <td>0.0</td>\n",
       "      <td>-1036700.350</td>\n",
       "      <td>-984965.745</td>\n",
       "    </tr>\n",
       "    <tr>\n",
       "      <th>grade</th>\n",
       "      <td>202286.412</td>\n",
       "      <td>1703.854</td>\n",
       "      <td>118.723</td>\n",
       "      <td>0.0</td>\n",
       "      <td>198946.686</td>\n",
       "      <td>205626.139</td>\n",
       "    </tr>\n",
       "  </tbody>\n",
       "</table>\n",
       "</div>"
      ],
      "text/plain": [
       "                  coef  std.error  t-value  p-value       [0.025      0.975]\n",
       "Intercept -1010833.048  13196.922  -76.596      0.0 -1036700.350 -984965.745\n",
       "grade       202286.412   1703.854  118.723      0.0   198946.686  205626.139"
      ]
     },
     "execution_count": 45,
     "metadata": {},
     "output_type": "execute_result"
    }
   ],
   "source": [
    "Y, X = dmatrices(\"price ~ grade\", data=df, return_type=\"dataframe\")\n",
    "X_train, X_test, Y_train, Y_test = train_test_split(X, Y, test_size=0.2, random_state=1)\n",
    "model = sm.OLS(Y_train, sm.add_constant(X_train))\n",
    "results = model.fit()\n",
    "print(\"r-squared: \" + str(results.rsquared))\n",
    "model_stats(results)"
   ]
  },
  {
   "cell_type": "code",
   "execution_count": 46,
   "metadata": {},
   "outputs": [
    {
     "name": "stdout",
     "output_type": "stream",
     "text": [
      "r-squared: 0.362448068412\n"
     ]
    },
    {
     "data": {
      "text/html": [
       "<div>\n",
       "<style>\n",
       "    .dataframe thead tr:only-child th {\n",
       "        text-align: right;\n",
       "    }\n",
       "\n",
       "    .dataframe thead th {\n",
       "        text-align: left;\n",
       "    }\n",
       "\n",
       "    .dataframe tbody tr th {\n",
       "        vertical-align: top;\n",
       "    }\n",
       "</style>\n",
       "<table border=\"1\" class=\"dataframe\">\n",
       "  <thead>\n",
       "    <tr style=\"text-align: right;\">\n",
       "      <th></th>\n",
       "      <th>coef</th>\n",
       "      <th>std.error</th>\n",
       "      <th>t-value</th>\n",
       "      <th>p-value</th>\n",
       "      <th>[0.025</th>\n",
       "      <th>0.975]</th>\n",
       "    </tr>\n",
       "  </thead>\n",
       "  <tbody>\n",
       "    <tr>\n",
       "      <th>Intercept</th>\n",
       "      <td>72710.059</td>\n",
       "      <td>5161.125</td>\n",
       "      <td>14.088</td>\n",
       "      <td>0.0</td>\n",
       "      <td>62593.733</td>\n",
       "      <td>82826.386</td>\n",
       "    </tr>\n",
       "    <tr>\n",
       "      <th>sqft_above</th>\n",
       "      <td>260.918</td>\n",
       "      <td>2.632</td>\n",
       "      <td>99.137</td>\n",
       "      <td>0.0</td>\n",
       "      <td>255.759</td>\n",
       "      <td>266.077</td>\n",
       "    </tr>\n",
       "  </tbody>\n",
       "</table>\n",
       "</div>"
      ],
      "text/plain": [
       "                 coef  std.error  t-value  p-value     [0.025     0.975]\n",
       "Intercept   72710.059   5161.125   14.088      0.0  62593.733  82826.386\n",
       "sqft_above    260.918      2.632   99.137      0.0    255.759    266.077"
      ]
     },
     "execution_count": 46,
     "metadata": {},
     "output_type": "execute_result"
    }
   ],
   "source": [
    "Y, X = dmatrices(\"price ~ sqft_above\", data=df, return_type=\"dataframe\")\n",
    "X_train, X_test, Y_train, Y_test = train_test_split(X, Y, test_size=0.2, random_state=1)\n",
    "model = sm.OLS(Y_train, sm.add_constant(X_train))\n",
    "results = model.fit()\n",
    "print(\"r-squared: \" + str(results.rsquared))\n",
    "model_stats(results)"
   ]
  },
  {
   "cell_type": "code",
   "execution_count": 47,
   "metadata": {},
   "outputs": [
    {
     "name": "stdout",
     "output_type": "stream",
     "text": [
      "r-squared: 0.100912409387\n"
     ]
    },
    {
     "data": {
      "text/html": [
       "<div>\n",
       "<style>\n",
       "    .dataframe thead tr:only-child th {\n",
       "        text-align: right;\n",
       "    }\n",
       "\n",
       "    .dataframe thead th {\n",
       "        text-align: left;\n",
       "    }\n",
       "\n",
       "    .dataframe tbody tr th {\n",
       "        vertical-align: top;\n",
       "    }\n",
       "</style>\n",
       "<table border=\"1\" class=\"dataframe\">\n",
       "  <thead>\n",
       "    <tr style=\"text-align: right;\">\n",
       "      <th></th>\n",
       "      <th>coef</th>\n",
       "      <th>std.error</th>\n",
       "      <th>t-value</th>\n",
       "      <th>p-value</th>\n",
       "      <th>[0.025</th>\n",
       "      <th>0.975]</th>\n",
       "    </tr>\n",
       "  </thead>\n",
       "  <tbody>\n",
       "    <tr>\n",
       "      <th>Intercept</th>\n",
       "      <td>463499.245</td>\n",
       "      <td>3060.622</td>\n",
       "      <td>151.44</td>\n",
       "      <td>0.0</td>\n",
       "      <td>457500.115</td>\n",
       "      <td>469498.374</td>\n",
       "    </tr>\n",
       "    <tr>\n",
       "      <th>sqft_basement</th>\n",
       "      <td>254.936</td>\n",
       "      <td>5.787</td>\n",
       "      <td>44.05</td>\n",
       "      <td>0.0</td>\n",
       "      <td>243.592</td>\n",
       "      <td>266.280</td>\n",
       "    </tr>\n",
       "  </tbody>\n",
       "</table>\n",
       "</div>"
      ],
      "text/plain": [
       "                     coef  std.error  t-value  p-value      [0.025      0.975]\n",
       "Intercept      463499.245   3060.622   151.44      0.0  457500.115  469498.374\n",
       "sqft_basement     254.936      5.787    44.05      0.0     243.592     266.280"
      ]
     },
     "execution_count": 47,
     "metadata": {},
     "output_type": "execute_result"
    }
   ],
   "source": [
    "Y, X = dmatrices(\"price ~ sqft_basement\", data=df, return_type=\"dataframe\")\n",
    "X_train, X_test, Y_train, Y_test = train_test_split(X, Y, test_size=0.2, random_state=1)\n",
    "model = sm.OLS(Y_train, sm.add_constant(X_train))\n",
    "results = model.fit()\n",
    "print(\"r-squared: \" + str(results.rsquared))\n",
    "model_stats(results)"
   ]
  },
  {
   "cell_type": "code",
   "execution_count": 48,
   "metadata": {},
   "outputs": [
    {
     "name": "stdout",
     "output_type": "stream",
     "text": [
      "r-squared: 0.0032219185802\n"
     ]
    },
    {
     "data": {
      "text/html": [
       "<div>\n",
       "<style>\n",
       "    .dataframe thead tr:only-child th {\n",
       "        text-align: right;\n",
       "    }\n",
       "\n",
       "    .dataframe thead th {\n",
       "        text-align: left;\n",
       "    }\n",
       "\n",
       "    .dataframe tbody tr th {\n",
       "        vertical-align: top;\n",
       "    }\n",
       "</style>\n",
       "<table border=\"1\" class=\"dataframe\">\n",
       "  <thead>\n",
       "    <tr style=\"text-align: right;\">\n",
       "      <th></th>\n",
       "      <th>coef</th>\n",
       "      <th>std.error</th>\n",
       "      <th>t-value</th>\n",
       "      <th>p-value</th>\n",
       "      <th>[0.025</th>\n",
       "      <th>0.975]</th>\n",
       "    </tr>\n",
       "  </thead>\n",
       "  <tbody>\n",
       "    <tr>\n",
       "      <th>Intercept</th>\n",
       "      <td>-808214.894</td>\n",
       "      <td>180091.755</td>\n",
       "      <td>-4.488</td>\n",
       "      <td>0.0</td>\n",
       "      <td>-1161212.962</td>\n",
       "      <td>-455216.827</td>\n",
       "    </tr>\n",
       "    <tr>\n",
       "      <th>yr_built</th>\n",
       "      <td>682.980</td>\n",
       "      <td>91.365</td>\n",
       "      <td>7.475</td>\n",
       "      <td>0.0</td>\n",
       "      <td>503.896</td>\n",
       "      <td>862.064</td>\n",
       "    </tr>\n",
       "  </tbody>\n",
       "</table>\n",
       "</div>"
      ],
      "text/plain": [
       "                 coef   std.error  t-value  p-value       [0.025      0.975]\n",
       "Intercept -808214.894  180091.755   -4.488      0.0 -1161212.962 -455216.827\n",
       "yr_built      682.980      91.365    7.475      0.0      503.896     862.064"
      ]
     },
     "execution_count": 48,
     "metadata": {},
     "output_type": "execute_result"
    }
   ],
   "source": [
    "Y, X = dmatrices(\"price ~ yr_built\", data=df, return_type=\"dataframe\")\n",
    "X_train, X_test, Y_train, Y_test = train_test_split(X, Y, test_size=0.2, random_state=1)\n",
    "model = sm.OLS(Y_train, sm.add_constant(X_train))\n",
    "results = model.fit()\n",
    "print(\"r-squared: \" + str(results.rsquared))\n",
    "model_stats(results)"
   ]
  },
  {
   "cell_type": "code",
   "execution_count": 49,
   "metadata": {},
   "outputs": [
    {
     "name": "stdout",
     "output_type": "stream",
     "text": [
      "r-squared: 0.0164069889542\n"
     ]
    },
    {
     "data": {
      "text/html": [
       "<div>\n",
       "<style>\n",
       "    .dataframe thead tr:only-child th {\n",
       "        text-align: right;\n",
       "    }\n",
       "\n",
       "    .dataframe thead th {\n",
       "        text-align: left;\n",
       "    }\n",
       "\n",
       "    .dataframe tbody tr th {\n",
       "        vertical-align: top;\n",
       "    }\n",
       "</style>\n",
       "<table border=\"1\" class=\"dataframe\">\n",
       "  <thead>\n",
       "    <tr style=\"text-align: right;\">\n",
       "      <th></th>\n",
       "      <th>coef</th>\n",
       "      <th>std.error</th>\n",
       "      <th>t-value</th>\n",
       "      <th>p-value</th>\n",
       "      <th>[0.025</th>\n",
       "      <th>0.975]</th>\n",
       "    </tr>\n",
       "  </thead>\n",
       "  <tbody>\n",
       "    <tr>\n",
       "      <th>Intercept</th>\n",
       "      <td>528341.077</td>\n",
       "      <td>2728.396</td>\n",
       "      <td>193.645</td>\n",
       "      <td>0.0</td>\n",
       "      <td>522993.145</td>\n",
       "      <td>533689.009</td>\n",
       "    </tr>\n",
       "    <tr>\n",
       "      <th>yr_renovated</th>\n",
       "      <td>112.765</td>\n",
       "      <td>6.640</td>\n",
       "      <td>16.982</td>\n",
       "      <td>0.0</td>\n",
       "      <td>99.749</td>\n",
       "      <td>125.780</td>\n",
       "    </tr>\n",
       "  </tbody>\n",
       "</table>\n",
       "</div>"
      ],
      "text/plain": [
       "                    coef  std.error  t-value  p-value      [0.025      0.975]\n",
       "Intercept     528341.077   2728.396  193.645      0.0  522993.145  533689.009\n",
       "yr_renovated     112.765      6.640   16.982      0.0      99.749     125.780"
      ]
     },
     "execution_count": 49,
     "metadata": {},
     "output_type": "execute_result"
    }
   ],
   "source": [
    "Y, X = dmatrices(\"price ~ yr_renovated\", data=df, return_type=\"dataframe\")\n",
    "X_train, X_test, Y_train, Y_test = train_test_split(X, Y, test_size=0.2, random_state=1)\n",
    "model = sm.OLS(Y_train, sm.add_constant(X_train))\n",
    "results = model.fit()\n",
    "print(\"r-squared: \" + str(results.rsquared))\n",
    "model_stats(results)"
   ]
  },
  {
   "cell_type": "code",
   "execution_count": 50,
   "metadata": {},
   "outputs": [
    {
     "name": "stdout",
     "output_type": "stream",
     "text": [
      "r-squared: 0.343212800074\n"
     ]
    },
    {
     "data": {
      "text/html": [
       "<div>\n",
       "<style>\n",
       "    .dataframe thead tr:only-child th {\n",
       "        text-align: right;\n",
       "    }\n",
       "\n",
       "    .dataframe thead th {\n",
       "        text-align: left;\n",
       "    }\n",
       "\n",
       "    .dataframe tbody tr th {\n",
       "        vertical-align: top;\n",
       "    }\n",
       "</style>\n",
       "<table border=\"1\" class=\"dataframe\">\n",
       "  <thead>\n",
       "    <tr style=\"text-align: right;\">\n",
       "      <th></th>\n",
       "      <th>coef</th>\n",
       "      <th>std.error</th>\n",
       "      <th>t-value</th>\n",
       "      <th>p-value</th>\n",
       "      <th>[0.025</th>\n",
       "      <th>0.975]</th>\n",
       "    </tr>\n",
       "  </thead>\n",
       "  <tbody>\n",
       "    <tr>\n",
       "      <th>Intercept</th>\n",
       "      <td>-65779.268</td>\n",
       "      <td>6715.417</td>\n",
       "      <td>-9.795</td>\n",
       "      <td>0.0</td>\n",
       "      <td>-78942.164</td>\n",
       "      <td>-52616.371</td>\n",
       "    </tr>\n",
       "    <tr>\n",
       "      <th>sqft_living15</th>\n",
       "      <td>304.244</td>\n",
       "      <td>3.201</td>\n",
       "      <td>95.048</td>\n",
       "      <td>0.0</td>\n",
       "      <td>297.970</td>\n",
       "      <td>310.518</td>\n",
       "    </tr>\n",
       "  </tbody>\n",
       "</table>\n",
       "</div>"
      ],
      "text/plain": [
       "                    coef  std.error  t-value  p-value     [0.025     0.975]\n",
       "Intercept     -65779.268   6715.417   -9.795      0.0 -78942.164 -52616.371\n",
       "sqft_living15    304.244      3.201   95.048      0.0    297.970    310.518"
      ]
     },
     "execution_count": 50,
     "metadata": {},
     "output_type": "execute_result"
    }
   ],
   "source": [
    "Y, X = dmatrices(\"price ~ sqft_living15\", data=df, return_type=\"dataframe\")\n",
    "X_train, X_test, Y_train, Y_test = train_test_split(X, Y, test_size=0.2, random_state=1)\n",
    "model = sm.OLS(Y_train, sm.add_constant(X_train))\n",
    "results = model.fit()\n",
    "print(\"r-squared: \" + str(results.rsquared))\n",
    "model_stats(results)"
   ]
  },
  {
   "cell_type": "code",
   "execution_count": 51,
   "metadata": {},
   "outputs": [
    {
     "name": "stdout",
     "output_type": "stream",
     "text": [
      "r-squared: 0.00665322637875\n"
     ]
    },
    {
     "data": {
      "text/html": [
       "<div>\n",
       "<style>\n",
       "    .dataframe thead tr:only-child th {\n",
       "        text-align: right;\n",
       "    }\n",
       "\n",
       "    .dataframe thead th {\n",
       "        text-align: left;\n",
       "    }\n",
       "\n",
       "    .dataframe tbody tr th {\n",
       "        vertical-align: top;\n",
       "    }\n",
       "</style>\n",
       "<table border=\"1\" class=\"dataframe\">\n",
       "  <thead>\n",
       "    <tr style=\"text-align: right;\">\n",
       "      <th></th>\n",
       "      <th>coef</th>\n",
       "      <th>std.error</th>\n",
       "      <th>t-value</th>\n",
       "      <th>p-value</th>\n",
       "      <th>[0.025</th>\n",
       "      <th>0.975]</th>\n",
       "    </tr>\n",
       "  </thead>\n",
       "  <tbody>\n",
       "    <tr>\n",
       "      <th>Intercept</th>\n",
       "      <td>524562.581</td>\n",
       "      <td>2954.838</td>\n",
       "      <td>177.527</td>\n",
       "      <td>0.0</td>\n",
       "      <td>518770.799</td>\n",
       "      <td>530354.364</td>\n",
       "    </tr>\n",
       "    <tr>\n",
       "      <th>sqft_lot15</th>\n",
       "      <td>1.041</td>\n",
       "      <td>0.097</td>\n",
       "      <td>10.761</td>\n",
       "      <td>0.0</td>\n",
       "      <td>0.852</td>\n",
       "      <td>1.231</td>\n",
       "    </tr>\n",
       "  </tbody>\n",
       "</table>\n",
       "</div>"
      ],
      "text/plain": [
       "                  coef  std.error  t-value  p-value      [0.025      0.975]\n",
       "Intercept   524562.581   2954.838  177.527      0.0  518770.799  530354.364\n",
       "sqft_lot15       1.041      0.097   10.761      0.0       0.852       1.231"
      ]
     },
     "execution_count": 51,
     "metadata": {},
     "output_type": "execute_result"
    }
   ],
   "source": [
    "Y, X = dmatrices(\"price ~ sqft_lot15\", data=df, return_type=\"dataframe\")\n",
    "X_train, X_test, Y_train, Y_test = train_test_split(X, Y, test_size=0.2, random_state=1)\n",
    "model = sm.OLS(Y_train, sm.add_constant(X_train))\n",
    "results = model.fit()\n",
    "print(\"r-squared: \" + str(results.rsquared))\n",
    "model_stats(results)"
   ]
  },
  {
   "cell_type": "markdown",
   "metadata": {},
   "source": [
    "### Can you compare the quality of the different columns as predictors before you train a model? How?"
   ]
  },
  {
   "cell_type": "markdown",
   "metadata": {},
   "source": [
    "One possible way to check the quality of a column as a predictor is to take a look at a scatter plot of the data. This will give you a fairly quick idea if the data is completely random, or if it seems to follow a pattern, and hopefully a straight line.\n",
    "\n",
    "We can also look to see if it meets some of the assumptions of a linear regression model. One of the assumptions is that the data is valid. Obviously if the data is not valid, and contains errors, its not going to be a great predictor. The assumption that the data is linear can be checked by looking at a graph of the data. The assumption that the data is normally distributed is a littler hard to demonstrate since the data is assumed to be normally distributed about the linear model, and without the linear model you can't tell if it is. The constant variance assumption falls under the same problem. Finally, we should be able to tell if the data points are independent. Obviously if they aren't, that column will make a poor model."
   ]
  },
  {
   "cell_type": "markdown",
   "metadata": {},
   "source": [
    "### How many rows are in the training data? How many rows in the test data?"
   ]
  },
  {
   "cell_type": "code",
   "execution_count": 61,
   "metadata": {},
   "outputs": [
    {
     "data": {
      "text/plain": [
       "(17290, 2)"
      ]
     },
     "execution_count": 61,
     "metadata": {},
     "output_type": "execute_result"
    }
   ],
   "source": [
    "X_train.shape"
   ]
  },
  {
   "cell_type": "code",
   "execution_count": 62,
   "metadata": {},
   "outputs": [
    {
     "data": {
      "text/plain": [
       "(4323, 2)"
      ]
     },
     "execution_count": 62,
     "metadata": {},
     "output_type": "execute_result"
    }
   ],
   "source": [
    "X_test.shape"
   ]
  },
  {
   "cell_type": "code",
   "execution_count": 63,
   "metadata": {},
   "outputs": [
    {
     "data": {
      "text/plain": [
       "(21613, 21)"
      ]
     },
     "execution_count": 63,
     "metadata": {},
     "output_type": "execute_result"
    }
   ],
   "source": [
    "df.shape"
   ]
  },
  {
   "cell_type": "markdown",
   "metadata": {},
   "source": [
    "There are 17290 rows in the training data sets when train_test_split is passed test_size=0.2, and the test data sets have 4323 rows."
   ]
  },
  {
   "cell_type": "markdown",
   "metadata": {},
   "source": [
    "### What do the metric scores tell you about the model?"
   ]
  },
  {
   "cell_type": "markdown",
   "metadata": {},
   "source": [
    "There are several metric scores that I've produced for each of the linear regressions I have created so far:\n",
    "* R-squared\n",
    " * This value is a indicator of how closely the data is fitted to the line. A value close to 1 indicates an excellent fit between the data and the model, while values close to 0 indicate a poor fit.\n",
    "* t-value\n",
    " * This value is a estimate of the evidence against the null hypothesis. The greater this number, the greater the evidence against the null hypothesis (which assumes there is no significant relationship). The closer the value is to 0, the more likely there is not a significant difference. For example, grade, which appears to be a decent predictor, has a t-value of ~118. This is very far away from zero and is strong support that grade can be used to predict \n",
    "* p-value\n",
    " * This value is an indicator of the probability of the null hypothesis. Low values, usually < 0.05 are used to reject the null hypothesis. All of the models I created above have p-values of 0.00, which would indicate that all columns can create a decent model, however other statistics show that some are better than others.\n",
    "* Confidence interval\n",
    " * This is the range of possible values for each coefficient that describes a normal distribution of values and a 95% confidence."
   ]
  },
  {
   "cell_type": "markdown",
   "metadata": {},
   "source": [
    "## Part 3"
   ]
  },
  {
   "cell_type": "markdown",
   "metadata": {},
   "source": [
    "The following is the model from the assignment page as a starting point. It seems to do pretty good with a r-squared value of 0.566. "
   ]
  },
  {
   "cell_type": "code",
   "execution_count": 69,
   "metadata": {},
   "outputs": [
    {
     "data": {
      "image/png": "[encoded data removed]",
      "text/plain": [
       "<matplotlib.figure.Figure at 0x7f4129ee6c18>"
      ]
     },
     "metadata": {},
     "output_type": "display_data"
    },
    {
     "data": {
      "text/plain": [
       "0.565798129666222"
      ]
     },
     "execution_count": 69,
     "metadata": {},
     "output_type": "execute_result"
    }
   ],
   "source": [
    "df = pd.read_csv(\"kc_house_data.csv\")\n",
    "df = df.drop([\"id\", \"date\", \"zipcode\", \"waterfront\", \"view\", \"condition\", \"grade\", \"lat\", \"long\"], axis=1)\n",
    "X = df.drop([\"price\"], axis=1).as_matrix()\n",
    "Y = df[[\"price\"]].as_matrix()\n",
    "\n",
    "X_train, X_test, Y_train, Y_test = train_test_split(X, Y, test_size=0.2)\n",
    "\n",
    "from sklearn.linear_model import LinearRegression\n",
    "\n",
    "lr = LinearRegression()\n",
    "lr.fit(X_train, Y_train)\n",
    "\n",
    "train_predicted = lr.predict(X_train)\n",
    "test_predicted = lr.predict(X_test)\n",
    "\n",
    "from sklearn import preprocessing\n",
    "train_residualScaled = preprocessing.scale(train_predicted - Y_train)\n",
    "test_residualScaled = preprocessing.scale(test_predicted - Y_test)\n",
    "\n",
    "import matplotlib.pyplot as plt\n",
    "\n",
    "plt.scatter(train_predicted, train_residualScaled, color=\"b\", s=1, alpha=0.5)\n",
    "test_predicted = lr.predict(X_test)\n",
    "plt.scatter(test_predicted, test_residualScaled, color=\"g\", s=1)\n",
    "plt.hlines(y=0, xmin=0, xmax=5000000, color=\"r\")\n",
    "plt.show()\n",
    "\n",
    "from sklearn import metrics\n",
    "metrics.r2_score(Y_test, test_predicted)"
   ]
  },
  {
   "cell_type": "markdown",
   "metadata": {},
   "source": [
    "When creating the single variable models, I noticed that grade was a strong predictor of price. So for this round I've kept it in the dataframe and the r-squared value has increased to"
   ]
  },
  {
   "cell_type": "code",
   "execution_count": 70,
   "metadata": {},
   "outputs": [
    {
     "data": {
      "image/png": "[encoded data removed]",
      "text/plain": [
       "<matplotlib.figure.Figure at 0x7f412434ef60>"
      ]
     },
     "metadata": {},
     "output_type": "display_data"
    },
    {
     "data": {
      "text/plain": [
       "0.61816687946724169"
      ]
     },
     "execution_count": 70,
     "metadata": {},
     "output_type": "execute_result"
    }
   ],
   "source": [
    "df = pd.read_csv(\"kc_house_data.csv\")\n",
    "df = df.drop([\"id\", \"date\", \"zipcode\", \"waterfront\", \"view\", \"condition\", \"lat\", \"long\"], axis=1)\n",
    "X = df.drop([\"price\"], axis=1).as_matrix()\n",
    "Y = df[[\"price\"]].as_matrix()\n",
    "\n",
    "X_train, X_test, Y_train, Y_test = train_test_split(X, Y, test_size=0.2)\n",
    "\n",
    "from sklearn.linear_model import LinearRegression\n",
    "\n",
    "lr = LinearRegression()\n",
    "lr.fit(X_train, Y_train)\n",
    "\n",
    "train_predicted = lr.predict(X_train)\n",
    "test_predicted = lr.predict(X_test)\n",
    "\n",
    "from sklearn import preprocessing\n",
    "train_residualScaled = preprocessing.scale(train_predicted - Y_train)\n",
    "test_residualScaled = preprocessing.scale(test_predicted - Y_test)\n",
    "\n",
    "import matplotlib.pyplot as plt\n",
    "\n",
    "plt.scatter(train_predicted, train_residualScaled, color=\"b\", s=1, alpha=0.5)\n",
    "test_predicted = lr.predict(X_test)\n",
    "plt.scatter(test_predicted, test_residualScaled, color=\"g\", s=1)\n",
    "plt.hlines(y=0, xmin=0, xmax=5000000, color=\"r\")\n",
    "plt.show()\n",
    "\n",
    "from sklearn import metrics\n",
    "metrics.r2_score(Y_test, test_predicted)"
   ]
  },
  {
   "cell_type": "markdown",
   "metadata": {},
   "source": [
    "For the following model I've removed some of the columns that had the weakest r-squared values for the single variable models. In removing one of the columns the r-squared value ended up decreasing by 0.1. Which is surprising since many of the removed columns were a poor fit on their own. "
   ]
  },
  {
   "cell_type": "code",
   "execution_count": 79,
   "metadata": {},
   "outputs": [
    {
     "data": {
      "image/png": "[encoded data removed]",
      "text/plain": [
       "<matplotlib.figure.Figure at 0x7f41243dfda0>"
      ]
     },
     "metadata": {},
     "output_type": "display_data"
    },
    {
     "data": {
      "text/plain": [
       "0.55661785867932312"
      ]
     },
     "execution_count": 79,
     "metadata": {},
     "output_type": "execute_result"
    }
   ],
   "source": [
    "df = pd.read_csv(\"kc_house_data.csv\")\n",
    "df = df.drop([\"id\", \"date\", \"zipcode\", \"waterfront\", \"view\", \"condition\", \"lat\", \"long\", \"sqft_living15\", \"yr_renovated\", \"yr_built\", \"condition\", \"floors\", \"sqft_lot\"], axis=1)\n",
    "X = df.drop([\"price\"], axis=1).as_matrix()\n",
    "Y = df[[\"price\"]].as_matrix()\n",
    "\n",
    "X_train, X_test, Y_train, Y_test = train_test_split(X, Y, test_size=0.2)\n",
    "\n",
    "from sklearn.linear_model import LinearRegression\n",
    "\n",
    "lr = LinearRegression()\n",
    "lr.fit(X_train, Y_train)\n",
    "\n",
    "train_predicted = lr.predict(X_train)\n",
    "test_predicted = lr.predict(X_test)\n",
    "\n",
    "from sklearn import preprocessing\n",
    "train_residualScaled = preprocessing.scale(train_predicted - Y_train)\n",
    "test_residualScaled = preprocessing.scale(test_predicted - Y_test)\n",
    "\n",
    "import matplotlib.pyplot as plt\n",
    "\n",
    "plt.scatter(train_predicted, train_residualScaled, color=\"b\", s=1, alpha=0.5)\n",
    "test_predicted = lr.predict(X_test)\n",
    "plt.scatter(test_predicted, test_residualScaled, color=\"g\", s=1)\n",
    "plt.hlines(y=0, xmin=0, xmax=5000000, color=\"r\")\n",
    "plt.show()\n",
    "\n",
    "from sklearn import metrics\n",
    "metrics.r2_score(Y_test, test_predicted)"
   ]
  },
  {
   "cell_type": "markdown",
   "metadata": {},
   "source": [
    "While creating the above model, I noticed that the removal more columns resulted in a drastic decrease in the r-squared value. So, in this model a played with which columns were removed to determine which had the greater effect when removed from the dataset. I found that the yr_built column had the 0.1 influence on the r-squared value. Keeping it in the dataset keeps the r-squared value just above 0.61. Removing it results in the fit of the above model."
   ]
  },
  {
   "cell_type": "code",
   "execution_count": 84,
   "metadata": {},
   "outputs": [
    {
     "name": "stdout",
     "output_type": "stream",
     "text": [
      "coef: [[ -4.89711046e+04   5.89452175e+04   1.26516096e+02   1.33366810e+05\n",
      "    5.82434762e+01   6.82726194e+01  -4.08963648e+03  -4.69719904e-01]]\n",
      "intercept: [ 7239411.48664897]\n"
     ]
    },
    {
     "data": {
      "image/png": "[encoded data removed]",
      "text/plain": [
       "<matplotlib.figure.Figure at 0x7f4123f5a358>"
      ]
     },
     "metadata": {},
     "output_type": "display_data"
    },
    {
     "data": {
      "text/plain": [
       "0.61745158420805368"
      ]
     },
     "execution_count": 84,
     "metadata": {},
     "output_type": "execute_result"
    }
   ],
   "source": [
    "df = pd.read_csv(\"kc_house_data.csv\")\n",
    "df = df.drop([\"id\", \"date\", \"zipcode\", \"waterfront\", \"view\", \"condition\", \"lat\", \"long\", \"sqft_living15\", \"yr_renovated\", \"condition\", \"floors\", \"sqft_lot\"], axis=1)\n",
    "X = df.drop([\"price\"], axis=1).as_matrix()\n",
    "Y = df[[\"price\"]].as_matrix()\n",
    "\n",
    "X_train, X_test, Y_train, Y_test = train_test_split(X, Y, test_size=0.2)\n",
    "\n",
    "from sklearn.linear_model import LinearRegression\n",
    "\n",
    "lr = LinearRegression()\n",
    "lr.fit(X_train, Y_train)\n",
    "print(\"coef: \" + str(lr.coef_))\n",
    "print(\"intercept: \" + str(lr.intercept_))\n",
    "train_predicted = lr.predict(X_train)\n",
    "test_predicted = lr.predict(X_test)\n",
    "\n",
    "from sklearn import preprocessing\n",
    "train_residualScaled = preprocessing.scale(train_predicted - Y_train)\n",
    "test_residualScaled = preprocessing.scale(test_predicted - Y_test)\n",
    "\n",
    "import matplotlib.pyplot as plt\n",
    "\n",
    "plt.scatter(train_predicted, train_residualScaled, color=\"b\", s=1, alpha=0.5)\n",
    "test_predicted = lr.predict(X_test)\n",
    "plt.scatter(test_predicted, test_residualScaled, color=\"g\", s=1)\n",
    "plt.hlines(y=0, xmin=0, xmax=5000000, color=\"r\")\n",
    "plt.show()\n",
    "\n",
    "from sklearn import metrics\n",
    "metrics.r2_score(Y_test, test_predicted)"
   ]
  },
  {
   "cell_type": "markdown",
   "metadata": {},
   "source": [
    "### What are the values of the coefficients learned by the model? What is the intercept?"
   ]
  },
  {
   "cell_type": "markdown",
   "metadata": {},
   "source": [
    "Each of the coefficients is paired with a column variable and can be thought of the slope of the model in that dimension. Its kind of like a measure of how much influence that column has on the value of the price. The intercept represents the bias of the model. Ideally the model would run straight through the origin, but the intercept shifts the model off of that in some direction."
   ]
  },
  {
   "cell_type": "markdown",
   "metadata": {},
   "source": [
    "### How can I evaluate the quality of multivariate models since I can't plot them and look at them? Why can't I plot them directly?"
   ]
  },
  {
   "cell_type": "markdown",
   "metadata": {},
   "source": [
    "Using the metrics produced from the model is an excellent way to \"see\" how good the model is. A high t-value, low p-value, and a r-squared value close to 1 generally indicate that you have a good model for reasons discussed earlier in the assignment. We can't plot the model because it becomes very difficult to visualize anything beyond 3 dimensions, and these datasets that I've used have had at least 5 or 6 dimensions."
   ]
  },
  {
   "cell_type": "markdown",
   "metadata": {},
   "source": [
    "### How does variance affect the model's ability to predict prices?"
   ]
  },
  {
   "cell_type": "markdown",
   "metadata": {},
   "source": [
    "We've seen that values that are far from the model's predictive line, can have a significant amount of leverage on the model. As the variance increases, these outliers can become more common and might have a greater leverage on the model. Also a high variance might cause the data to be very \"fuzzy\" and it could be difficult find a good line through it."
   ]
  },
  {
   "cell_type": "markdown",
   "metadata": {},
   "source": [
    "### What visual tools do I have to check for likely predictors? Which metrics can help?\n",
    "\n",
    "The scatter matrix is an excellent tool for visualizing multivariate data since it shows you every variable plotted against every other one in two dimensions. I think the t-value metric for single variable models can be helpful in determining if a variable might be a good predictor, or at least helpful in improving a multivariate model.\n",
    "\n",
    "### Think about how you might use zipcode to make a better model. How can we organize the 70 zip codes to provide insight into price differentiation without adding 69 dimensions.\n",
    "\n",
    "We could attempt to categorize the zipcodes into ordinal data values, so that each zipcode would translate to a low, mid, high housing price. These new values could be used to improve the model. Unfortunately I didn't get around to implementing this, so I have no proof that this scheme would actually improve the multivariate models any."
   ]
  },
  {
   "cell_type": "code",
   "execution_count": null,
   "metadata": {},
   "outputs": [],
   "source": []
  }
 ],
 "metadata": {
  "kernelspec": {
   "display_name": "Python 3",
   "language": "python",
   "name": "python3"
  },
  "language_info": {
   "codemirror_mode": {
    "name": "ipython",
    "version": 3
   },
   "file_extension": ".py",
   "mimetype": "text/x-python",
   "name": "python",
   "nbconvert_exporter": "python",
   "pygments_lexer": "ipython3",
   "version": "3.5.2"
  }
 },
 "nbformat": 4,
 "nbformat_minor": 2
}
